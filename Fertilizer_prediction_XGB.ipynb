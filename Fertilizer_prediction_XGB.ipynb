{
 "cells": [
  {
   "cell_type": "markdown",
   "id": "ca2e7b00-ba2f-4033-a11a-e367ae5c11b8",
   "metadata": {},
   "source": [
    "## Introduction\n"
   ]
  },
  {
   "cell_type": "markdown",
   "id": "28f63cef-602b-4ca4-bd9c-b6914ca48c7a",
   "metadata": {},
   "source": [
    "This is a Kaggle project to predict best fertilizers based on weather, soil types and crops. Previously, Random Forest was used to build the model, but model performance is poor. So using XGBoost to see if that improves performance."
   ]
  },
  {
   "cell_type": "markdown",
   "id": "abaf5a15-4ba0-4684-b0f2-eb8577b00e47",
   "metadata": {},
   "source": [
    "## Step-1:  Import Libraries"
   ]
  },
  {
   "cell_type": "code",
   "execution_count": 12,
   "id": "52d09f8d-09e0-44f3-9a7a-4205b8aabd18",
   "metadata": {},
   "outputs": [],
   "source": [
    "# Import\n",
    "\n",
    "import numpy as np\n",
    "import pandas as pd\n",
    "import matplotlib.pyplot as plt\n",
    "import seaborn as sns\n",
    "\n",
    "from sklearn.model_selection import train_test_split,RandomizedSearchCV\n",
    "from sklearn.preprocessing import LabelEncoder, StandardScaler\n",
    "from sklearn.ensemble import RandomForestClassifier\n",
    "from sklearn.metrics import classification_report, confusion_matrix, accuracy_score\n",
    "from xgboost import XGBClassifier\n",
    "\n",
    "from scipy.stats import uniform, randint"
   ]
  },
  {
   "cell_type": "markdown",
   "id": "413d2f21-1b25-49d5-aa49-5bc91b25cf12",
   "metadata": {},
   "source": [
    "# Step-2: Load Dataset"
   ]
  },
  {
   "cell_type": "code",
   "execution_count": 3,
   "id": "7c9b17c7-2c1f-49b4-bf5f-5aeb78a0eb46",
   "metadata": {},
   "outputs": [],
   "source": [
    "train_set= pd.read_csv('Data/train.csv')\n",
    "train_set=train_set.rename(columns={'Fertilizer Name':'Fertilizer_Name'})\n"
   ]
  },
  {
   "cell_type": "markdown",
   "id": "34b45d15-f7fe-4ca1-9d25-772fb6a6cf68",
   "metadata": {
    "tags": []
   },
   "source": [
    "# Step-3: Exploratory Data Analysis (EDA)"
   ]
  },
  {
   "cell_type": "markdown",
   "id": "1389020b-0f98-4022-afa9-b95410841292",
   "metadata": {},
   "source": [
    "# 3.1 Data Overview"
   ]
  },
  {
   "cell_type": "code",
   "execution_count": 4,
   "id": "1ed45ad6-c060-4780-8b1a-d591eeaea8dc",
   "metadata": {},
   "outputs": [
    {
     "data": {
      "text/html": [
       "<div>\n",
       "<style scoped>\n",
       "    .dataframe tbody tr th:only-of-type {\n",
       "        vertical-align: middle;\n",
       "    }\n",
       "\n",
       "    .dataframe tbody tr th {\n",
       "        vertical-align: top;\n",
       "    }\n",
       "\n",
       "    .dataframe thead th {\n",
       "        text-align: right;\n",
       "    }\n",
       "</style>\n",
       "<table border=\"1\" class=\"dataframe\">\n",
       "  <thead>\n",
       "    <tr style=\"text-align: right;\">\n",
       "      <th></th>\n",
       "      <th>id</th>\n",
       "      <th>Temparature</th>\n",
       "      <th>Humidity</th>\n",
       "      <th>Moisture</th>\n",
       "      <th>Soil Type</th>\n",
       "      <th>Crop Type</th>\n",
       "      <th>Nitrogen</th>\n",
       "      <th>Potassium</th>\n",
       "      <th>Phosphorous</th>\n",
       "      <th>Fertilizer_Name</th>\n",
       "    </tr>\n",
       "  </thead>\n",
       "  <tbody>\n",
       "    <tr>\n",
       "      <th>0</th>\n",
       "      <td>0</td>\n",
       "      <td>37</td>\n",
       "      <td>70</td>\n",
       "      <td>36</td>\n",
       "      <td>Clayey</td>\n",
       "      <td>Sugarcane</td>\n",
       "      <td>36</td>\n",
       "      <td>4</td>\n",
       "      <td>5</td>\n",
       "      <td>28-28</td>\n",
       "    </tr>\n",
       "    <tr>\n",
       "      <th>1</th>\n",
       "      <td>1</td>\n",
       "      <td>27</td>\n",
       "      <td>69</td>\n",
       "      <td>65</td>\n",
       "      <td>Sandy</td>\n",
       "      <td>Millets</td>\n",
       "      <td>30</td>\n",
       "      <td>6</td>\n",
       "      <td>18</td>\n",
       "      <td>28-28</td>\n",
       "    </tr>\n",
       "    <tr>\n",
       "      <th>2</th>\n",
       "      <td>2</td>\n",
       "      <td>29</td>\n",
       "      <td>63</td>\n",
       "      <td>32</td>\n",
       "      <td>Sandy</td>\n",
       "      <td>Millets</td>\n",
       "      <td>24</td>\n",
       "      <td>12</td>\n",
       "      <td>16</td>\n",
       "      <td>17-17-17</td>\n",
       "    </tr>\n",
       "    <tr>\n",
       "      <th>3</th>\n",
       "      <td>3</td>\n",
       "      <td>35</td>\n",
       "      <td>62</td>\n",
       "      <td>54</td>\n",
       "      <td>Sandy</td>\n",
       "      <td>Barley</td>\n",
       "      <td>39</td>\n",
       "      <td>12</td>\n",
       "      <td>4</td>\n",
       "      <td>10-26-26</td>\n",
       "    </tr>\n",
       "    <tr>\n",
       "      <th>4</th>\n",
       "      <td>4</td>\n",
       "      <td>35</td>\n",
       "      <td>58</td>\n",
       "      <td>43</td>\n",
       "      <td>Red</td>\n",
       "      <td>Paddy</td>\n",
       "      <td>37</td>\n",
       "      <td>2</td>\n",
       "      <td>16</td>\n",
       "      <td>DAP</td>\n",
       "    </tr>\n",
       "    <tr>\n",
       "      <th>...</th>\n",
       "      <td>...</td>\n",
       "      <td>...</td>\n",
       "      <td>...</td>\n",
       "      <td>...</td>\n",
       "      <td>...</td>\n",
       "      <td>...</td>\n",
       "      <td>...</td>\n",
       "      <td>...</td>\n",
       "      <td>...</td>\n",
       "      <td>...</td>\n",
       "    </tr>\n",
       "    <tr>\n",
       "      <th>749995</th>\n",
       "      <td>749995</td>\n",
       "      <td>25</td>\n",
       "      <td>69</td>\n",
       "      <td>30</td>\n",
       "      <td>Clayey</td>\n",
       "      <td>Maize</td>\n",
       "      <td>8</td>\n",
       "      <td>16</td>\n",
       "      <td>6</td>\n",
       "      <td>28-28</td>\n",
       "    </tr>\n",
       "    <tr>\n",
       "      <th>749996</th>\n",
       "      <td>749996</td>\n",
       "      <td>37</td>\n",
       "      <td>64</td>\n",
       "      <td>58</td>\n",
       "      <td>Loamy</td>\n",
       "      <td>Sugarcane</td>\n",
       "      <td>38</td>\n",
       "      <td>8</td>\n",
       "      <td>20</td>\n",
       "      <td>17-17-17</td>\n",
       "    </tr>\n",
       "    <tr>\n",
       "      <th>749997</th>\n",
       "      <td>749997</td>\n",
       "      <td>35</td>\n",
       "      <td>68</td>\n",
       "      <td>59</td>\n",
       "      <td>Sandy</td>\n",
       "      <td>Ground Nuts</td>\n",
       "      <td>6</td>\n",
       "      <td>11</td>\n",
       "      <td>29</td>\n",
       "      <td>10-26-26</td>\n",
       "    </tr>\n",
       "    <tr>\n",
       "      <th>749998</th>\n",
       "      <td>749998</td>\n",
       "      <td>31</td>\n",
       "      <td>68</td>\n",
       "      <td>29</td>\n",
       "      <td>Red</td>\n",
       "      <td>Cotton</td>\n",
       "      <td>9</td>\n",
       "      <td>11</td>\n",
       "      <td>12</td>\n",
       "      <td>20-20</td>\n",
       "    </tr>\n",
       "    <tr>\n",
       "      <th>749999</th>\n",
       "      <td>749999</td>\n",
       "      <td>33</td>\n",
       "      <td>55</td>\n",
       "      <td>29</td>\n",
       "      <td>Loamy</td>\n",
       "      <td>Cotton</td>\n",
       "      <td>4</td>\n",
       "      <td>10</td>\n",
       "      <td>9</td>\n",
       "      <td>Urea</td>\n",
       "    </tr>\n",
       "  </tbody>\n",
       "</table>\n",
       "<p>750000 rows × 10 columns</p>\n",
       "</div>"
      ],
      "text/plain": [
       "            id  Temparature  Humidity  Moisture Soil Type    Crop Type  \\\n",
       "0            0           37        70        36    Clayey    Sugarcane   \n",
       "1            1           27        69        65     Sandy      Millets   \n",
       "2            2           29        63        32     Sandy      Millets   \n",
       "3            3           35        62        54     Sandy       Barley   \n",
       "4            4           35        58        43       Red        Paddy   \n",
       "...        ...          ...       ...       ...       ...          ...   \n",
       "749995  749995           25        69        30    Clayey        Maize   \n",
       "749996  749996           37        64        58     Loamy    Sugarcane   \n",
       "749997  749997           35        68        59     Sandy  Ground Nuts   \n",
       "749998  749998           31        68        29       Red       Cotton   \n",
       "749999  749999           33        55        29     Loamy       Cotton   \n",
       "\n",
       "        Nitrogen  Potassium  Phosphorous Fertilizer_Name  \n",
       "0             36          4            5           28-28  \n",
       "1             30          6           18           28-28  \n",
       "2             24         12           16        17-17-17  \n",
       "3             39         12            4        10-26-26  \n",
       "4             37          2           16             DAP  \n",
       "...          ...        ...          ...             ...  \n",
       "749995         8         16            6           28-28  \n",
       "749996        38          8           20        17-17-17  \n",
       "749997         6         11           29        10-26-26  \n",
       "749998         9         11           12           20-20  \n",
       "749999         4         10            9            Urea  \n",
       "\n",
       "[750000 rows x 10 columns]"
      ]
     },
     "execution_count": 4,
     "metadata": {},
     "output_type": "execute_result"
    }
   ],
   "source": [
    "train_set"
   ]
  },
  {
   "cell_type": "code",
   "execution_count": 4,
   "id": "122c078c-6373-471f-898a-c4e7bec6c04c",
   "metadata": {},
   "outputs": [
    {
     "name": "stdout",
     "output_type": "stream",
     "text": [
      "<class 'pandas.core.frame.DataFrame'>\n",
      "RangeIndex: 750000 entries, 0 to 749999\n",
      "Data columns (total 10 columns):\n",
      " #   Column           Non-Null Count   Dtype \n",
      "---  ------           --------------   ----- \n",
      " 0   id               750000 non-null  int64 \n",
      " 1   Temparature      750000 non-null  int64 \n",
      " 2   Humidity         750000 non-null  int64 \n",
      " 3   Moisture         750000 non-null  int64 \n",
      " 4   Soil Type        750000 non-null  object\n",
      " 5   Crop Type        750000 non-null  object\n",
      " 6   Nitrogen         750000 non-null  int64 \n",
      " 7   Potassium        750000 non-null  int64 \n",
      " 8   Phosphorous      750000 non-null  int64 \n",
      " 9   Fertilizer_Name  750000 non-null  object\n",
      "dtypes: int64(7), object(3)\n",
      "memory usage: 57.2+ MB\n"
     ]
    }
   ],
   "source": [
    "train_set.info()"
   ]
  },
  {
   "cell_type": "code",
   "execution_count": 5,
   "id": "0b82318a-fab5-4506-9677-ccd9a6a8b6f1",
   "metadata": {},
   "outputs": [
    {
     "data": {
      "text/html": [
       "<div>\n",
       "<style scoped>\n",
       "    .dataframe tbody tr th:only-of-type {\n",
       "        vertical-align: middle;\n",
       "    }\n",
       "\n",
       "    .dataframe tbody tr th {\n",
       "        vertical-align: top;\n",
       "    }\n",
       "\n",
       "    .dataframe thead th {\n",
       "        text-align: right;\n",
       "    }\n",
       "</style>\n",
       "<table border=\"1\" class=\"dataframe\">\n",
       "  <thead>\n",
       "    <tr style=\"text-align: right;\">\n",
       "      <th></th>\n",
       "      <th>id</th>\n",
       "      <th>Temparature</th>\n",
       "      <th>Humidity</th>\n",
       "      <th>Moisture</th>\n",
       "      <th>Nitrogen</th>\n",
       "      <th>Potassium</th>\n",
       "      <th>Phosphorous</th>\n",
       "    </tr>\n",
       "  </thead>\n",
       "  <tbody>\n",
       "    <tr>\n",
       "      <th>count</th>\n",
       "      <td>750000.000000</td>\n",
       "      <td>750000.000000</td>\n",
       "      <td>750000.000000</td>\n",
       "      <td>750000.000000</td>\n",
       "      <td>750000.000000</td>\n",
       "      <td>750000.000000</td>\n",
       "      <td>750000.000000</td>\n",
       "    </tr>\n",
       "    <tr>\n",
       "      <th>mean</th>\n",
       "      <td>374999.500000</td>\n",
       "      <td>31.503565</td>\n",
       "      <td>61.038912</td>\n",
       "      <td>45.184147</td>\n",
       "      <td>23.093808</td>\n",
       "      <td>9.478296</td>\n",
       "      <td>21.073227</td>\n",
       "    </tr>\n",
       "    <tr>\n",
       "      <th>std</th>\n",
       "      <td>216506.495284</td>\n",
       "      <td>4.025574</td>\n",
       "      <td>6.647695</td>\n",
       "      <td>11.794594</td>\n",
       "      <td>11.216125</td>\n",
       "      <td>5.765622</td>\n",
       "      <td>12.346831</td>\n",
       "    </tr>\n",
       "    <tr>\n",
       "      <th>min</th>\n",
       "      <td>0.000000</td>\n",
       "      <td>25.000000</td>\n",
       "      <td>50.000000</td>\n",
       "      <td>25.000000</td>\n",
       "      <td>4.000000</td>\n",
       "      <td>0.000000</td>\n",
       "      <td>0.000000</td>\n",
       "    </tr>\n",
       "    <tr>\n",
       "      <th>25%</th>\n",
       "      <td>187499.750000</td>\n",
       "      <td>28.000000</td>\n",
       "      <td>55.000000</td>\n",
       "      <td>35.000000</td>\n",
       "      <td>13.000000</td>\n",
       "      <td>4.000000</td>\n",
       "      <td>10.000000</td>\n",
       "    </tr>\n",
       "    <tr>\n",
       "      <th>50%</th>\n",
       "      <td>374999.500000</td>\n",
       "      <td>32.000000</td>\n",
       "      <td>61.000000</td>\n",
       "      <td>45.000000</td>\n",
       "      <td>23.000000</td>\n",
       "      <td>9.000000</td>\n",
       "      <td>21.000000</td>\n",
       "    </tr>\n",
       "    <tr>\n",
       "      <th>75%</th>\n",
       "      <td>562499.250000</td>\n",
       "      <td>35.000000</td>\n",
       "      <td>67.000000</td>\n",
       "      <td>55.000000</td>\n",
       "      <td>33.000000</td>\n",
       "      <td>14.000000</td>\n",
       "      <td>32.000000</td>\n",
       "    </tr>\n",
       "    <tr>\n",
       "      <th>max</th>\n",
       "      <td>749999.000000</td>\n",
       "      <td>38.000000</td>\n",
       "      <td>72.000000</td>\n",
       "      <td>65.000000</td>\n",
       "      <td>42.000000</td>\n",
       "      <td>19.000000</td>\n",
       "      <td>42.000000</td>\n",
       "    </tr>\n",
       "  </tbody>\n",
       "</table>\n",
       "</div>"
      ],
      "text/plain": [
       "                  id    Temparature       Humidity       Moisture  \\\n",
       "count  750000.000000  750000.000000  750000.000000  750000.000000   \n",
       "mean   374999.500000      31.503565      61.038912      45.184147   \n",
       "std    216506.495284       4.025574       6.647695      11.794594   \n",
       "min         0.000000      25.000000      50.000000      25.000000   \n",
       "25%    187499.750000      28.000000      55.000000      35.000000   \n",
       "50%    374999.500000      32.000000      61.000000      45.000000   \n",
       "75%    562499.250000      35.000000      67.000000      55.000000   \n",
       "max    749999.000000      38.000000      72.000000      65.000000   \n",
       "\n",
       "            Nitrogen      Potassium    Phosphorous  \n",
       "count  750000.000000  750000.000000  750000.000000  \n",
       "mean       23.093808       9.478296      21.073227  \n",
       "std        11.216125       5.765622      12.346831  \n",
       "min         4.000000       0.000000       0.000000  \n",
       "25%        13.000000       4.000000      10.000000  \n",
       "50%        23.000000       9.000000      21.000000  \n",
       "75%        33.000000      14.000000      32.000000  \n",
       "max        42.000000      19.000000      42.000000  "
      ]
     },
     "execution_count": 5,
     "metadata": {},
     "output_type": "execute_result"
    }
   ],
   "source": [
    "train_set.describe()"
   ]
  },
  {
   "cell_type": "code",
   "execution_count": 6,
   "id": "21c9dc7e-e7a6-468c-adc0-9e4cd9054559",
   "metadata": {},
   "outputs": [
    {
     "data": {
      "text/plain": [
       "array(['28-28', '17-17-17', '10-26-26', 'DAP', '20-20', '14-35-14',\n",
       "       'Urea'], dtype=object)"
      ]
     },
     "execution_count": 6,
     "metadata": {},
     "output_type": "execute_result"
    }
   ],
   "source": [
    "# How many unique Fertilizers in the data?\n",
    "train_set.Fertilizer_Name.unique()"
   ]
  },
  {
   "cell_type": "markdown",
   "id": "3ca2c2e8-9279-475e-bb3d-9f3dd9f7fdfc",
   "metadata": {},
   "source": [
    "# 3.2: Check for missing values"
   ]
  },
  {
   "cell_type": "code",
   "execution_count": 7,
   "id": "9d0262ad-f801-4253-ad8d-151216521cea",
   "metadata": {},
   "outputs": [
    {
     "data": {
      "text/plain": [
       "id                 0\n",
       "Temparature        0\n",
       "Humidity           0\n",
       "Moisture           0\n",
       "Soil Type          0\n",
       "Crop Type          0\n",
       "Nitrogen           0\n",
       "Potassium          0\n",
       "Phosphorous        0\n",
       "Fertilizer_Name    0\n",
       "dtype: int64"
      ]
     },
     "execution_count": 7,
     "metadata": {},
     "output_type": "execute_result"
    }
   ],
   "source": [
    "train_set.isnull().sum()"
   ]
  },
  {
   "cell_type": "raw",
   "id": "1975806c-0410-46ee-a0ae-6728878c9f2e",
   "metadata": {},
   "source": [
    "No missing data in train set."
   ]
  },
  {
   "cell_type": "markdown",
   "id": "e7d4ecdf-1dcc-4ea4-ba45-bdcef4efaac3",
   "metadata": {},
   "source": [
    "# 3.3: Visualizations"
   ]
  },
  {
   "cell_type": "code",
   "execution_count": 8,
   "id": "d3c282e2-a0cb-4d13-a3fd-eff3fdb4413a",
   "metadata": {},
   "outputs": [
    {
     "data": {
      "text/plain": [
       "array([[<AxesSubplot:title={'center':'Temparature'}>,\n",
       "        <AxesSubplot:title={'center':'Humidity'}>],\n",
       "       [<AxesSubplot:title={'center':'Moisture'}>,\n",
       "        <AxesSubplot:title={'center':'Nitrogen'}>],\n",
       "       [<AxesSubplot:title={'center':'Potassium'}>,\n",
       "        <AxesSubplot:title={'center':'Phosphorous'}>]], dtype=object)"
      ]
     },
     "execution_count": 8,
     "metadata": {},
     "output_type": "execute_result"
    },
    {
     "data": {
      "image/png": "[encoded data removed]",
      "text/plain": [
       "<Figure size 720x576 with 6 Axes>"
      ]
     },
     "metadata": {
      "needs_background": "light"
     },
     "output_type": "display_data"
    }
   ],
   "source": [
    "# Distribution of numerical features\n",
    "train_set[['Temparature', 'Humidity', 'Moisture', 'Nitrogen', 'Potassium', 'Phosphorous']].hist(figsize=(10,8))\n",
    "\n"
   ]
  },
  {
   "cell_type": "code",
   "execution_count": 9,
   "id": "9d86df8a-36e0-4a3d-a320-2805ea072e72",
   "metadata": {},
   "outputs": [
    {
     "data": {
      "text/plain": [
       "(array([0, 1, 2, 3, 4, 5, 6]),\n",
       " [Text(0, 0, '28-28'),\n",
       "  Text(1, 0, '17-17-17'),\n",
       "  Text(2, 0, '10-26-26'),\n",
       "  Text(3, 0, 'DAP'),\n",
       "  Text(4, 0, '20-20'),\n",
       "  Text(5, 0, '14-35-14'),\n",
       "  Text(6, 0, 'Urea')])"
      ]
     },
     "execution_count": 9,
     "metadata": {},
     "output_type": "execute_result"
    },
    {
     "data": {
      "image/png": "[encoded data removed]",
      "text/plain": [
       "<Figure size 432x288 with 1 Axes>"
      ]
     },
     "metadata": {
      "needs_background": "light"
     },
     "output_type": "display_data"
    }
   ],
   "source": [
    "# Fertilizer distribution\n",
    "sns.countplot(x='Fertilizer_Name', data=train_set)\n",
    "plt.xticks(rotation=45)\n",
    "\n",
    "\n"
   ]
  },
  {
   "cell_type": "code",
   "execution_count": 10,
   "id": "0e3c580b-f4ac-4053-b98b-66a9e4962908",
   "metadata": {},
   "outputs": [],
   "source": [
    "# Pairplot (optional)\n",
    "#sns.pairplot(train_set, hue='Fertilizer_Name')"
   ]
  },
  {
   "cell_type": "code",
   "execution_count": 11,
   "id": "aa19d5c4-8518-4e60-9d37-1e40ec6cd38a",
   "metadata": {},
   "outputs": [
    {
     "data": {
      "text/html": [
       "<div>\n",
       "<style scoped>\n",
       "    .dataframe tbody tr th:only-of-type {\n",
       "        vertical-align: middle;\n",
       "    }\n",
       "\n",
       "    .dataframe tbody tr th {\n",
       "        vertical-align: top;\n",
       "    }\n",
       "\n",
       "    .dataframe thead th {\n",
       "        text-align: right;\n",
       "    }\n",
       "</style>\n",
       "<table border=\"1\" class=\"dataframe\">\n",
       "  <thead>\n",
       "    <tr style=\"text-align: right;\">\n",
       "      <th></th>\n",
       "      <th>id</th>\n",
       "      <th>Temparature</th>\n",
       "      <th>Humidity</th>\n",
       "      <th>Moisture</th>\n",
       "      <th>Nitrogen</th>\n",
       "      <th>Potassium</th>\n",
       "      <th>Phosphorous</th>\n",
       "    </tr>\n",
       "  </thead>\n",
       "  <tbody>\n",
       "    <tr>\n",
       "      <th>id</th>\n",
       "      <td>1.000000</td>\n",
       "      <td>-0.001069</td>\n",
       "      <td>-0.000310</td>\n",
       "      <td>0.001752</td>\n",
       "      <td>0.001505</td>\n",
       "      <td>-0.000375</td>\n",
       "      <td>-0.001234</td>\n",
       "    </tr>\n",
       "    <tr>\n",
       "      <th>Temparature</th>\n",
       "      <td>-0.001069</td>\n",
       "      <td>1.000000</td>\n",
       "      <td>0.001758</td>\n",
       "      <td>-0.001633</td>\n",
       "      <td>-0.006073</td>\n",
       "      <td>-0.009913</td>\n",
       "      <td>0.000298</td>\n",
       "    </tr>\n",
       "    <tr>\n",
       "      <th>Humidity</th>\n",
       "      <td>-0.000310</td>\n",
       "      <td>0.001758</td>\n",
       "      <td>1.000000</td>\n",
       "      <td>0.003424</td>\n",
       "      <td>0.006502</td>\n",
       "      <td>0.005229</td>\n",
       "      <td>0.002413</td>\n",
       "    </tr>\n",
       "    <tr>\n",
       "      <th>Moisture</th>\n",
       "      <td>0.001752</td>\n",
       "      <td>-0.001633</td>\n",
       "      <td>0.003424</td>\n",
       "      <td>1.000000</td>\n",
       "      <td>0.003016</td>\n",
       "      <td>-0.001931</td>\n",
       "      <td>-0.006735</td>\n",
       "    </tr>\n",
       "    <tr>\n",
       "      <th>Nitrogen</th>\n",
       "      <td>0.001505</td>\n",
       "      <td>-0.006073</td>\n",
       "      <td>0.006502</td>\n",
       "      <td>0.003016</td>\n",
       "      <td>1.000000</td>\n",
       "      <td>0.000543</td>\n",
       "      <td>-0.005464</td>\n",
       "    </tr>\n",
       "    <tr>\n",
       "      <th>Potassium</th>\n",
       "      <td>-0.000375</td>\n",
       "      <td>-0.009913</td>\n",
       "      <td>0.005229</td>\n",
       "      <td>-0.001931</td>\n",
       "      <td>0.000543</td>\n",
       "      <td>1.000000</td>\n",
       "      <td>0.000113</td>\n",
       "    </tr>\n",
       "    <tr>\n",
       "      <th>Phosphorous</th>\n",
       "      <td>-0.001234</td>\n",
       "      <td>0.000298</td>\n",
       "      <td>0.002413</td>\n",
       "      <td>-0.006735</td>\n",
       "      <td>-0.005464</td>\n",
       "      <td>0.000113</td>\n",
       "      <td>1.000000</td>\n",
       "    </tr>\n",
       "  </tbody>\n",
       "</table>\n",
       "</div>"
      ],
      "text/plain": [
       "                   id  Temparature  Humidity  Moisture  Nitrogen  Potassium  \\\n",
       "id           1.000000    -0.001069 -0.000310  0.001752  0.001505  -0.000375   \n",
       "Temparature -0.001069     1.000000  0.001758 -0.001633 -0.006073  -0.009913   \n",
       "Humidity    -0.000310     0.001758  1.000000  0.003424  0.006502   0.005229   \n",
       "Moisture     0.001752    -0.001633  0.003424  1.000000  0.003016  -0.001931   \n",
       "Nitrogen     0.001505    -0.006073  0.006502  0.003016  1.000000   0.000543   \n",
       "Potassium   -0.000375    -0.009913  0.005229 -0.001931  0.000543   1.000000   \n",
       "Phosphorous -0.001234     0.000298  0.002413 -0.006735 -0.005464   0.000113   \n",
       "\n",
       "             Phosphorous  \n",
       "id             -0.001234  \n",
       "Temparature     0.000298  \n",
       "Humidity        0.002413  \n",
       "Moisture       -0.006735  \n",
       "Nitrogen       -0.005464  \n",
       "Potassium       0.000113  \n",
       "Phosphorous     1.000000  "
      ]
     },
     "execution_count": 11,
     "metadata": {},
     "output_type": "execute_result"
    }
   ],
   "source": [
    "# What are the correlations between different features?\n",
    "train_set.corr()"
   ]
  },
  {
   "cell_type": "markdown",
   "id": "02707694-2e5d-4e99-b75e-6ece1a053162",
   "metadata": {},
   "source": [
    "# 3.4: Categorical Analysis"
   ]
  },
  {
   "cell_type": "code",
   "execution_count": 12,
   "id": "785d9f55-e81a-406c-b90a-b6685261494e",
   "metadata": {},
   "outputs": [
    {
     "name": "stdout",
     "output_type": "stream",
     "text": [
      "Sandy     156710\n",
      "Black     150956\n",
      "Clayey    148382\n",
      "Red       148102\n",
      "Loamy     145850\n",
      "Name: Soil Type, dtype: int64\n",
      "Paddy          85754\n",
      "Pulses         78180\n",
      "Cotton         69171\n",
      "Tobacco        68000\n",
      "Wheat          66628\n",
      "Millets        65291\n",
      "Barley         65045\n",
      "Sugarcane      64269\n",
      "Oil seeds      64184\n",
      "Maize          62569\n",
      "Ground Nuts    60909\n",
      "Name: Crop Type, dtype: int64\n"
     ]
    }
   ],
   "source": [
    "print(train_set['Soil Type'].value_counts())\n",
    "print(train_set['Crop Type'].value_counts())\n"
   ]
  },
  {
   "cell_type": "markdown",
   "id": "2479e6ab-1905-4bcd-8aed-b811423a102a",
   "metadata": {},
   "source": [
    "# Step-4: Feature Engineering and Encoding"
   ]
  },
  {
   "cell_type": "markdown",
   "id": "99d7cba0-0ef2-43f3-8540-1c6dacec13ab",
   "metadata": {},
   "source": [
    "# 4.1: Drop Unnecessary Columns\n"
   ]
  },
  {
   "cell_type": "code",
   "execution_count": 5,
   "id": "3a97ad56-84f9-4c9f-8710-53a0792b2b19",
   "metadata": {},
   "outputs": [],
   "source": [
    "train_set.drop(columns=['id'], inplace=True)"
   ]
  },
  {
   "cell_type": "markdown",
   "id": "7bf4e97d-c291-49e8-ad92-04405991da35",
   "metadata": {},
   "source": [
    "# 4.2: Encoding Categorical Variables"
   ]
  },
  {
   "cell_type": "code",
   "execution_count": 6,
   "id": "974a65bd-6556-4b35-9a19-175a3d764c85",
   "metadata": {},
   "outputs": [],
   "source": [
    "label_encoders={}\n",
    "\n",
    "for col in ['Soil Type', 'Crop Type', 'Fertilizer_Name']:\n",
    "    le=LabelEncoder()\n",
    "    train_set[col]= le.fit_transform(train_set[col])\n",
    "    label_encoders[col]=le"
   ]
  },
  {
   "cell_type": "code",
   "execution_count": 15,
   "id": "2f73dd03-fb38-4c62-95ab-62bf799d8e4b",
   "metadata": {},
   "outputs": [],
   "source": [
    "# Check data after encoding (Optional)\n",
    "#train_set"
   ]
  },
  {
   "cell_type": "markdown",
   "id": "43b8cabb-9ab5-4080-b760-f506f31cc9ff",
   "metadata": {},
   "source": [
    "# 4.3: Feature/Target Split"
   ]
  },
  {
   "cell_type": "code",
   "execution_count": 7,
   "id": "d5c8bd45-2a24-4ec3-870a-0412ca3240cc",
   "metadata": {},
   "outputs": [],
   "source": [
    "X = train_set.drop(columns=['Fertilizer_Name'])\n",
    "y = train_set['Fertilizer_Name']\n"
   ]
  },
  {
   "cell_type": "code",
   "execution_count": 8,
   "id": "bf60ee65-c3ed-446d-aba9-62cf5d63b997",
   "metadata": {},
   "outputs": [
    {
     "name": "stdout",
     "output_type": "stream",
     "text": [
      "(750000, 8)\n",
      "(750000,)\n"
     ]
    }
   ],
   "source": [
    "print(X.shape)\n",
    "print(y.shape)"
   ]
  },
  {
   "cell_type": "markdown",
   "id": "e55270da-617b-4669-8676-39db442ab65b",
   "metadata": {},
   "source": [
    "# Setp-5: Feature Scaling"
   ]
  },
  {
   "cell_type": "code",
   "execution_count": 8,
   "id": "8fe5e463-ce57-4446-bc22-463ad2e7ebe8",
   "metadata": {},
   "outputs": [],
   "source": [
    "scaler = StandardScaler()\n",
    "X_scaled = scaler.fit_transform(X)\n"
   ]
  },
  {
   "cell_type": "code",
   "execution_count": 11,
   "id": "71e03ff2-7d97-4117-868c-637958923240",
   "metadata": {},
   "outputs": [
    {
     "name": "stdout",
     "output_type": "stream",
     "text": [
      "(750000, 8)\n",
      "(750000,)\n"
     ]
    }
   ],
   "source": [
    "print(X_scaled.shape)\n",
    "print(y.shape)"
   ]
  },
  {
   "cell_type": "markdown",
   "id": "08028f19-a0f7-4534-ae2a-977281e2c9ba",
   "metadata": {},
   "source": [
    "# Step-6: Model Selection & Training"
   ]
  },
  {
   "cell_type": "code",
   "execution_count": 13,
   "id": "7880aae0-8486-48b1-b382-fea355e0d736",
   "metadata": {},
   "outputs": [
    {
     "name": "stdout",
     "output_type": "stream",
     "text": [
      "Fitting 3 folds for each of 30 candidates, totalling 90 fits\n"
     ]
    },
    {
     "name": "stderr",
     "output_type": "stream",
     "text": [
      "/Users/merina/opt/anaconda3/lib/python3.8/site-packages/xgboost/core.py:158: UserWarning: [22:32:41] WARNING: /Users/runner/work/xgboost/xgboost/src/learner.cc:740: \n",
      "Parameters: { \"use_label_encoder\" } are not used.\n",
      "\n",
      "  warnings.warn(smsg, UserWarning)\n"
     ]
    },
    {
     "data": {
      "text/plain": [
       "RandomizedSearchCV(cv=3,\n",
       "                   estimator=XGBClassifier(base_score=None, booster=None,\n",
       "                                           callbacks=None,\n",
       "                                           colsample_bylevel=None,\n",
       "                                           colsample_bynode=None,\n",
       "                                           colsample_bytree=None, device=None,\n",
       "                                           early_stopping_rounds=None,\n",
       "                                           enable_categorical=False,\n",
       "                                           eval_metric='mlogloss',\n",
       "                                           feature_types=None, gamma=None,\n",
       "                                           grow_policy=None,\n",
       "                                           importance_type=None,\n",
       "                                           interaction_constraints=None,\n",
       "                                           learnin...\n",
       "                                        'learning_rate': <scipy.stats._distn_infrastructure.rv_frozen object at 0x7fd287d33ca0>,\n",
       "                                        'max_depth': <scipy.stats._distn_infrastructure.rv_frozen object at 0x7fd2ab6a9400>,\n",
       "                                        'n_estimators': <scipy.stats._distn_infrastructure.rv_frozen object at 0x7fd29e9a6040>,\n",
       "                                        'subsample': <scipy.stats._distn_infrastructure.rv_frozen object at 0x7fd287d33f70>},\n",
       "                   random_state=42, scoring='accuracy', verbose=1)"
      ]
     },
     "execution_count": 13,
     "metadata": {},
     "output_type": "execute_result"
    }
   ],
   "source": [
    "# Train-Test split\n",
    "X_train, X_test,y_train, y_test = train_test_split(X_scaled, y, test_size=0.2, random_state=42)\n",
    "\n",
    "# Define base XGBoost model\n",
    "xgb = XGBClassifier(\n",
    "    use_label_encoder=False,\n",
    "    eval_metric='mlogloss',\n",
    "    random_state=42\n",
    ")\n",
    "\n",
    "# 7. Define parameter distribution\n",
    "param_dist = {\n",
    "    'n_estimators': randint(50, 300),\n",
    "    'max_depth': randint(3, 10),\n",
    "    'learning_rate': uniform(0.01, 0.2),\n",
    "    'subsample': uniform(0.7, 0.3),\n",
    "    'colsample_bytree': uniform(0.7, 0.3)\n",
    "}\n",
    "\n",
    "# 8. Randomized Search\n",
    "random_search = RandomizedSearchCV(\n",
    "    estimator=xgb,\n",
    "    param_distributions=param_dist,\n",
    "    n_iter=30,              # Number of random combinations to try\n",
    "    scoring='accuracy',\n",
    "    cv=3,\n",
    "    verbose=1,\n",
    "    n_jobs=-1,\n",
    "    random_state=42\n",
    ")\n",
    "\n",
    "# 9. Fit the model\n",
    "random_search.fit(X_train, y_train)"
   ]
  },
  {
   "cell_type": "markdown",
   "id": "2f3f6edc-5cc5-40a4-8033-f6f405b30121",
   "metadata": {},
   "source": [
    "# Step-7: Model Evaluation"
   ]
  },
  {
   "cell_type": "code",
   "execution_count": 14,
   "id": "9b1ebffd-21bc-4d91-bf25-690b149ad5d7",
   "metadata": {},
   "outputs": [
    {
     "name": "stdout",
     "output_type": "stream",
     "text": [
      "Best Parameters: {'colsample_bytree': 0.7039794883479599, 'learning_rate': 0.19844035113697056, 'max_depth': 8, 'n_estimators': 291, 'subsample': 0.8156249507619748}\n",
      "\n",
      "Classification Report:\n",
      "               precision    recall  f1-score   support\n",
      "\n",
      "           0       0.21      0.23      0.22     22841\n",
      "           1       0.20      0.25      0.22     22639\n",
      "           2       0.21      0.24      0.22     22764\n",
      "           3       0.19      0.20      0.20     22010\n",
      "           4       0.19      0.20      0.20     22384\n",
      "           5       0.21      0.16      0.18     19148\n",
      "           6       0.19      0.12      0.15     18214\n",
      "\n",
      "    accuracy                           0.20    150000\n",
      "   macro avg       0.20      0.20      0.20    150000\n",
      "weighted avg       0.20      0.20      0.20    150000\n",
      "\n",
      "Test Accuracy: 0.20157333333333333\n"
     ]
    }
   ],
   "source": [
    "print(\"Best Parameters:\", random_search.best_params_)\n",
    "\n",
    "best_model = random_search.best_estimator_\n",
    "y_pred = best_model.predict(X_test)\n",
    "\n",
    "print(\"\\nClassification Report:\\n\", classification_report(y_test, y_pred))\n",
    "print(\"Test Accuracy:\", accuracy_score(y_test, y_pred))"
   ]
  },
  {
   "cell_type": "markdown",
   "id": "bb670c47-ff73-4f39-825a-e83375ab12f0",
   "metadata": {},
   "source": [
    "The model performance is also poor. So we need to refine the model or choose a different model to improve performace. Will try Staritified K-fold later."
   ]
  },
  {
   "cell_type": "markdown",
   "id": "6f23917f-18e4-4159-9c12-079fffaed04d",
   "metadata": {},
   "source": [
    "# Step-8: Feature Importance"
   ]
  },
  {
   "cell_type": "code",
   "execution_count": 15,
   "id": "c996bac1-959c-442d-b0bf-f335e1b9e8fa",
   "metadata": {},
   "outputs": [
    {
     "data": {
      "text/plain": [
       "Text(0.5, 1.0, 'Feature Importances')"
      ]
     },
     "execution_count": 15,
     "metadata": {},
     "output_type": "execute_result"
    },
    {
     "data": {
      "image/png": "[encoded data removed]",
      "text/plain": [
       "<Figure size 576x432 with 1 Axes>"
      ]
     },
     "metadata": {
      "needs_background": "light"
     },
     "output_type": "display_data"
    }
   ],
   "source": [
    "importances = best_model.feature_importances_\n",
    "features = X.columns\n",
    "sorted_idx = np.argsort(importances)[::-1]\n",
    "\n",
    "plt.figure(figsize=(8,6))\n",
    "sns.barplot(x=importances[sorted_idx], y=features[sorted_idx])\n",
    "plt.title('Feature Importances')\n"
   ]
  },
  {
   "cell_type": "markdown",
   "id": "5af104b8-558f-45a5-b59a-f0ca7837adef",
   "metadata": {},
   "source": [
    "# Step-9: Predict on New/Test Data:"
   ]
  },
  {
   "cell_type": "code",
   "execution_count": 30,
   "id": "82b2f7cf-4bff-46c8-84ad-bf59be56c637",
   "metadata": {},
   "outputs": [],
   "source": [
    "# Load test data\n",
    "\n",
    "test_input=pd.read_csv('Data/test.csv')\n",
    "\n",
    "# Preserve Original data to save id\n",
    "\n",
    "result_df=test_input.copy()\n"
   ]
  },
  {
   "cell_type": "code",
   "execution_count": 31,
   "id": "94b4a23d-a1c1-4f87-9ce6-f0d9666b05cc",
   "metadata": {},
   "outputs": [],
   "source": [
    "# Drop id column\n",
    "test_input.drop(columns=['id'], inplace=True)"
   ]
  },
  {
   "cell_type": "code",
   "execution_count": 32,
   "id": "1c212c69-0097-47a0-810d-dc8110aec765",
   "metadata": {},
   "outputs": [
    {
     "data": {
      "text/plain": [
       "Temparature    0\n",
       "Humidity       0\n",
       "Moisture       0\n",
       "Soil Type      0\n",
       "Crop Type      0\n",
       "Nitrogen       0\n",
       "Potassium      0\n",
       "Phosphorous    0\n",
       "dtype: int64"
      ]
     },
     "execution_count": 32,
     "metadata": {},
     "output_type": "execute_result"
    }
   ],
   "source": [
    "test_input.isnull().sum()"
   ]
  },
  {
   "cell_type": "code",
   "execution_count": 33,
   "id": "e81b6b3f-16a4-4437-a143-c5fb5d58f694",
   "metadata": {},
   "outputs": [
    {
     "data": {
      "text/plain": [
       "array([[<AxesSubplot:title={'center':'Temparature'}>,\n",
       "        <AxesSubplot:title={'center':'Humidity'}>],\n",
       "       [<AxesSubplot:title={'center':'Moisture'}>,\n",
       "        <AxesSubplot:title={'center':'Nitrogen'}>],\n",
       "       [<AxesSubplot:title={'center':'Potassium'}>,\n",
       "        <AxesSubplot:title={'center':'Phosphorous'}>]], dtype=object)"
      ]
     },
     "execution_count": 33,
     "metadata": {},
     "output_type": "execute_result"
    },
    {
     "data": {
      "image/png": "[encoded data removed]",
      "text/plain": [
       "<Figure size 720x576 with 6 Axes>"
      ]
     },
     "metadata": {
      "needs_background": "light"
     },
     "output_type": "display_data"
    }
   ],
   "source": [
    "# Distribution of numerical features\n",
    "test_input[['Temparature', 'Humidity', 'Moisture', 'Nitrogen', 'Potassium', 'Phosphorous']].hist(figsize=(10,8))\n",
    "\n"
   ]
  },
  {
   "cell_type": "code",
   "execution_count": 34,
   "id": "6fc31908-d964-43ff-97ca-e39528358273",
   "metadata": {},
   "outputs": [
    {
     "data": {
      "text/plain": [
       "Temparature     int64\n",
       "Humidity        int64\n",
       "Moisture        int64\n",
       "Soil Type      object\n",
       "Crop Type      object\n",
       "Nitrogen        int64\n",
       "Potassium       int64\n",
       "Phosphorous     int64\n",
       "dtype: object"
      ]
     },
     "execution_count": 34,
     "metadata": {},
     "output_type": "execute_result"
    }
   ],
   "source": [
    "test_input.dtypes"
   ]
  },
  {
   "cell_type": "code",
   "execution_count": 36,
   "id": "942f6bcd-0f06-4a01-8090-58b4ef75ff30",
   "metadata": {},
   "outputs": [
    {
     "name": "stdout",
     "output_type": "stream",
     "text": [
      "        Temparature  Humidity  Moisture  Soil Type  Crop Type  Nitrogen  \\\n",
      "0                31        70        52          4         10        34   \n",
      "1                27        62        45          3          8        30   \n",
      "2                28        72        28          1          2        14   \n",
      "3                37        53        57          0          2        18   \n",
      "4                31        55        32          3          7        13   \n",
      "...             ...       ...       ...        ...        ...       ...   \n",
      "249995           26        66        30          3          8        14   \n",
      "249996           33        62        55          3          7        28   \n",
      "249997           36        53        64          0          6        28   \n",
      "249998           36        67        26          1          6        33   \n",
      "249999           35        63        36          1          2        29   \n",
      "\n",
      "        Potassium  Phosphorous Predicted_Fertilizer  \n",
      "0              11           24                  DAP  \n",
      "1              14           15             17-17-17  \n",
      "2              15            4                20-20  \n",
      "3              17           36                 Urea  \n",
      "4              19           14                20-20  \n",
      "...           ...          ...                  ...  \n",
      "249995          7           18             10-26-26  \n",
      "249996         14            7             10-26-26  \n",
      "249997         11           27             14-35-14  \n",
      "249998          0           10                  DAP  \n",
      "249999          2           13             14-35-14  \n",
      "\n",
      "[250000 rows x 9 columns]\n"
     ]
    }
   ],
   "source": [
    "# Encode categorical features\n",
    "for col in ['Soil Type', 'Crop Type']:\n",
    "    test_input[col] = label_encoders[col].transform(test_input[col])\n",
    "# Scale features\n",
    "test_input_scaled = scaler.transform(test_input)\n",
    "\n",
    "# Predict\n",
    "pred_fert = model.predict(test_input_scaled)\n",
    "fertilizer_names = label_encoders['Fertilizer_Name'].inverse_transform(pred_fert)\n",
    "test_input['Predicted_Fertilizer'] = fertilizer_names\n",
    "print(test_input)"
   ]
  },
  {
   "cell_type": "code",
   "execution_count": 37,
   "id": "32f6e639-c1b5-45f8-8093-b4b6568a9ec5",
   "metadata": {},
   "outputs": [],
   "source": [
    "# Predict top 3 fertilizers\n",
    "\n",
    "probs = model.predict_proba(test_input_scaled)  # shape: (n_samples, n_classes)\n"
   ]
  },
  {
   "cell_type": "code",
   "execution_count": 38,
   "id": "044706a1-2f50-4926-8508-5fd650da0843",
   "metadata": {},
   "outputs": [],
   "source": [
    "# Get top 3 class indices for each samples\n",
    "top3_indices = np.argsort(probs, axis=1)[:, -3:][:, ::-1]  # shape: (n_samples, 3)\n"
   ]
  },
  {
   "cell_type": "code",
   "execution_count": 39,
   "id": "2c3b0d95-7824-459b-9365-6815dd0fd582",
   "metadata": {},
   "outputs": [],
   "source": [
    "# Convert indices into fertilizer names\n",
    "top3_ferts = np.array(label_encoders['Fertilizer_Name'].inverse_transform(\n",
    "    np.ravel(top3_indices)\n",
    ")).reshape(top3_indices.shape)\n"
   ]
  },
  {
   "cell_type": "code",
   "execution_count": 40,
   "id": "d14dab7a-c7cb-45dd-975b-06a887bdd914",
   "metadata": {},
   "outputs": [
    {
     "name": "stdout",
     "output_type": "stream",
     "text": [
      "            id      Top1      Top2      Top3\n",
      "0       750000       DAP      Urea     28-28\n",
      "1       750001  17-17-17       DAP     28-28\n",
      "2       750002     20-20      Urea  10-26-26\n",
      "3       750003      Urea  17-17-17       DAP\n",
      "4       750004     20-20  17-17-17     28-28\n",
      "...        ...       ...       ...       ...\n",
      "249995  999995      Urea  10-26-26     20-20\n",
      "249996  999996  10-26-26  14-35-14      Urea\n",
      "249997  999997  14-35-14  10-26-26     20-20\n",
      "249998  999998       DAP     28-28      Urea\n",
      "249999  999999  14-35-14  17-17-17     20-20\n",
      "\n",
      "[250000 rows x 4 columns]\n"
     ]
    }
   ],
   "source": [
    "# Add to test dataframe\n",
    "result_df['Top1'] = top3_ferts[:, 0]\n",
    "result_df['Top2'] = top3_ferts[:, 1]\n",
    "result_df['Top3'] = top3_ferts[:, 2]\n",
    "\n",
    "print(result_df[['id','Top1', 'Top2', 'Top3']])\n"
   ]
  },
  {
   "cell_type": "code",
   "execution_count": null,
   "id": "df16ae39-43c1-4150-b198-100213959c5f",
   "metadata": {},
   "outputs": [],
   "source": []
  },
  {
   "cell_type": "code",
   "execution_count": 42,
   "id": "2a4a385e-9666-452c-93a3-b56381afc9f1",
   "metadata": {},
   "outputs": [],
   "source": [
    "submission_set=result_df[['id','Top1','Top2', 'Top3']]"
   ]
  },
  {
   "cell_type": "code",
   "execution_count": 43,
   "id": "4db3ba8b-aea2-48f1-988e-d022a2b70f77",
   "metadata": {},
   "outputs": [
    {
     "data": {
      "text/html": [
       "<div>\n",
       "<style scoped>\n",
       "    .dataframe tbody tr th:only-of-type {\n",
       "        vertical-align: middle;\n",
       "    }\n",
       "\n",
       "    .dataframe tbody tr th {\n",
       "        vertical-align: top;\n",
       "    }\n",
       "\n",
       "    .dataframe thead th {\n",
       "        text-align: right;\n",
       "    }\n",
       "</style>\n",
       "<table border=\"1\" class=\"dataframe\">\n",
       "  <thead>\n",
       "    <tr style=\"text-align: right;\">\n",
       "      <th></th>\n",
       "      <th>id</th>\n",
       "      <th>Top1</th>\n",
       "      <th>Top2</th>\n",
       "      <th>Top3</th>\n",
       "    </tr>\n",
       "  </thead>\n",
       "  <tbody>\n",
       "    <tr>\n",
       "      <th>0</th>\n",
       "      <td>750000</td>\n",
       "      <td>DAP</td>\n",
       "      <td>Urea</td>\n",
       "      <td>28-28</td>\n",
       "    </tr>\n",
       "    <tr>\n",
       "      <th>1</th>\n",
       "      <td>750001</td>\n",
       "      <td>17-17-17</td>\n",
       "      <td>DAP</td>\n",
       "      <td>28-28</td>\n",
       "    </tr>\n",
       "    <tr>\n",
       "      <th>2</th>\n",
       "      <td>750002</td>\n",
       "      <td>20-20</td>\n",
       "      <td>Urea</td>\n",
       "      <td>10-26-26</td>\n",
       "    </tr>\n",
       "    <tr>\n",
       "      <th>3</th>\n",
       "      <td>750003</td>\n",
       "      <td>Urea</td>\n",
       "      <td>17-17-17</td>\n",
       "      <td>DAP</td>\n",
       "    </tr>\n",
       "    <tr>\n",
       "      <th>4</th>\n",
       "      <td>750004</td>\n",
       "      <td>20-20</td>\n",
       "      <td>17-17-17</td>\n",
       "      <td>28-28</td>\n",
       "    </tr>\n",
       "    <tr>\n",
       "      <th>...</th>\n",
       "      <td>...</td>\n",
       "      <td>...</td>\n",
       "      <td>...</td>\n",
       "      <td>...</td>\n",
       "    </tr>\n",
       "    <tr>\n",
       "      <th>249995</th>\n",
       "      <td>999995</td>\n",
       "      <td>Urea</td>\n",
       "      <td>10-26-26</td>\n",
       "      <td>20-20</td>\n",
       "    </tr>\n",
       "    <tr>\n",
       "      <th>249996</th>\n",
       "      <td>999996</td>\n",
       "      <td>10-26-26</td>\n",
       "      <td>14-35-14</td>\n",
       "      <td>Urea</td>\n",
       "    </tr>\n",
       "    <tr>\n",
       "      <th>249997</th>\n",
       "      <td>999997</td>\n",
       "      <td>14-35-14</td>\n",
       "      <td>10-26-26</td>\n",
       "      <td>20-20</td>\n",
       "    </tr>\n",
       "    <tr>\n",
       "      <th>249998</th>\n",
       "      <td>999998</td>\n",
       "      <td>DAP</td>\n",
       "      <td>28-28</td>\n",
       "      <td>Urea</td>\n",
       "    </tr>\n",
       "    <tr>\n",
       "      <th>249999</th>\n",
       "      <td>999999</td>\n",
       "      <td>14-35-14</td>\n",
       "      <td>17-17-17</td>\n",
       "      <td>20-20</td>\n",
       "    </tr>\n",
       "  </tbody>\n",
       "</table>\n",
       "<p>250000 rows × 4 columns</p>\n",
       "</div>"
      ],
      "text/plain": [
       "            id      Top1      Top2      Top3\n",
       "0       750000       DAP      Urea     28-28\n",
       "1       750001  17-17-17       DAP     28-28\n",
       "2       750002     20-20      Urea  10-26-26\n",
       "3       750003      Urea  17-17-17       DAP\n",
       "4       750004     20-20  17-17-17     28-28\n",
       "...        ...       ...       ...       ...\n",
       "249995  999995      Urea  10-26-26     20-20\n",
       "249996  999996  10-26-26  14-35-14      Urea\n",
       "249997  999997  14-35-14  10-26-26     20-20\n",
       "249998  999998       DAP     28-28      Urea\n",
       "249999  999999  14-35-14  17-17-17     20-20\n",
       "\n",
       "[250000 rows x 4 columns]"
      ]
     },
     "execution_count": 43,
     "metadata": {},
     "output_type": "execute_result"
    }
   ],
   "source": [
    "submission_set\n"
   ]
  },
  {
   "cell_type": "code",
   "execution_count": 50,
   "id": "4fd089bd-15c9-4c9c-83e3-254e020a88ae",
   "metadata": {},
   "outputs": [
    {
     "name": "stdout",
     "output_type": "stream",
     "text": [
      "        Temparature  Humidity  Moisture Soil Type    Crop Type  Nitrogen  \\\n",
      "id                                                                         \n",
      "750000           31        70        52     Sandy        Wheat        34   \n",
      "750001           27        62        45       Red    Sugarcane        30   \n",
      "750002           28        72        28    Clayey  Ground Nuts        14   \n",
      "750003           37        53        57     Black  Ground Nuts        18   \n",
      "750004           31        55        32       Red       Pulses        13   \n",
      "...             ...       ...       ...       ...          ...       ...   \n",
      "999995           26        66        30       Red    Sugarcane        14   \n",
      "999996           33        62        55       Red       Pulses        28   \n",
      "999997           36        53        64     Black        Paddy        28   \n",
      "999998           36        67        26    Clayey        Paddy        33   \n",
      "999999           35        63        36    Clayey  Ground Nuts        29   \n",
      "\n",
      "        Potassium  Phosphorous      Top1      Top2      Top3  \\\n",
      "id                                                             \n",
      "750000         11           24       DAP      Urea     28-28   \n",
      "750001         14           15  17-17-17       DAP     28-28   \n",
      "750002         15            4     20-20      Urea  10-26-26   \n",
      "750003         17           36      Urea  17-17-17       DAP   \n",
      "750004         19           14     20-20  17-17-17     28-28   \n",
      "...           ...          ...       ...       ...       ...   \n",
      "999995          7           18      Urea  10-26-26     20-20   \n",
      "999996         14            7  10-26-26  14-35-14      Urea   \n",
      "999997         11           27  14-35-14  10-26-26     20-20   \n",
      "999998          0           10       DAP     28-28      Urea   \n",
      "999999          2           13  14-35-14  17-17-17     20-20   \n",
      "\n",
      "               Top3_Predictions  \n",
      "id                               \n",
      "750000           DAP Urea 28-28  \n",
      "750001       17-17-17 DAP 28-28  \n",
      "750002      20-20 Urea 10-26-26  \n",
      "750003        Urea 17-17-17 DAP  \n",
      "750004     20-20 17-17-17 28-28  \n",
      "...                         ...  \n",
      "999995      Urea 10-26-26 20-20  \n",
      "999996   10-26-26 14-35-14 Urea  \n",
      "999997  14-35-14 10-26-26 20-20  \n",
      "999998           DAP 28-28 Urea  \n",
      "999999  14-35-14 17-17-17 20-20  \n",
      "\n",
      "[250000 rows x 12 columns]\n"
     ]
    }
   ],
   "source": [
    "result_df['Top3_Predictions'] = result_df[['Top1', 'Top2', 'Top3']].agg(' '.join, axis=1)\n",
    "\n",
    "# Set 'id' as index\n",
    "result_df.set_index('id', inplace=True)\n",
    "\n",
    "# Optional: display result\n",
    "print(result_df)\n"
   ]
  },
  {
   "cell_type": "code",
   "execution_count": 52,
   "id": "4c56490b-d652-4d3d-ad54-67521523e0db",
   "metadata": {},
   "outputs": [],
   "source": [
    "submission_df=result_df[['Top3_Predictions']]"
   ]
  },
  {
   "cell_type": "code",
   "execution_count": 53,
   "id": "0163aff6-91ac-49cc-8138-99cb90552208",
   "metadata": {},
   "outputs": [
    {
     "data": {
      "text/html": [
       "<div>\n",
       "<style scoped>\n",
       "    .dataframe tbody tr th:only-of-type {\n",
       "        vertical-align: middle;\n",
       "    }\n",
       "\n",
       "    .dataframe tbody tr th {\n",
       "        vertical-align: top;\n",
       "    }\n",
       "\n",
       "    .dataframe thead th {\n",
       "        text-align: right;\n",
       "    }\n",
       "</style>\n",
       "<table border=\"1\" class=\"dataframe\">\n",
       "  <thead>\n",
       "    <tr style=\"text-align: right;\">\n",
       "      <th></th>\n",
       "      <th>Top3_Predictions</th>\n",
       "    </tr>\n",
       "    <tr>\n",
       "      <th>id</th>\n",
       "      <th></th>\n",
       "    </tr>\n",
       "  </thead>\n",
       "  <tbody>\n",
       "    <tr>\n",
       "      <th>750000</th>\n",
       "      <td>DAP Urea 28-28</td>\n",
       "    </tr>\n",
       "    <tr>\n",
       "      <th>750001</th>\n",
       "      <td>17-17-17 DAP 28-28</td>\n",
       "    </tr>\n",
       "    <tr>\n",
       "      <th>750002</th>\n",
       "      <td>20-20 Urea 10-26-26</td>\n",
       "    </tr>\n",
       "    <tr>\n",
       "      <th>750003</th>\n",
       "      <td>Urea 17-17-17 DAP</td>\n",
       "    </tr>\n",
       "    <tr>\n",
       "      <th>750004</th>\n",
       "      <td>20-20 17-17-17 28-28</td>\n",
       "    </tr>\n",
       "    <tr>\n",
       "      <th>...</th>\n",
       "      <td>...</td>\n",
       "    </tr>\n",
       "    <tr>\n",
       "      <th>999995</th>\n",
       "      <td>Urea 10-26-26 20-20</td>\n",
       "    </tr>\n",
       "    <tr>\n",
       "      <th>999996</th>\n",
       "      <td>10-26-26 14-35-14 Urea</td>\n",
       "    </tr>\n",
       "    <tr>\n",
       "      <th>999997</th>\n",
       "      <td>14-35-14 10-26-26 20-20</td>\n",
       "    </tr>\n",
       "    <tr>\n",
       "      <th>999998</th>\n",
       "      <td>DAP 28-28 Urea</td>\n",
       "    </tr>\n",
       "    <tr>\n",
       "      <th>999999</th>\n",
       "      <td>14-35-14 17-17-17 20-20</td>\n",
       "    </tr>\n",
       "  </tbody>\n",
       "</table>\n",
       "<p>250000 rows × 1 columns</p>\n",
       "</div>"
      ],
      "text/plain": [
       "               Top3_Predictions\n",
       "id                             \n",
       "750000           DAP Urea 28-28\n",
       "750001       17-17-17 DAP 28-28\n",
       "750002      20-20 Urea 10-26-26\n",
       "750003        Urea 17-17-17 DAP\n",
       "750004     20-20 17-17-17 28-28\n",
       "...                         ...\n",
       "999995      Urea 10-26-26 20-20\n",
       "999996   10-26-26 14-35-14 Urea\n",
       "999997  14-35-14 10-26-26 20-20\n",
       "999998           DAP 28-28 Urea\n",
       "999999  14-35-14 17-17-17 20-20\n",
       "\n",
       "[250000 rows x 1 columns]"
      ]
     },
     "execution_count": 53,
     "metadata": {},
     "output_type": "execute_result"
    }
   ],
   "source": [
    "submission_df"
   ]
  },
  {
   "cell_type": "code",
   "execution_count": 54,
   "id": "881d413e-0de1-4c7d-b1ed-40cd1752f733",
   "metadata": {},
   "outputs": [],
   "source": [
    "submission_df.to_csv('fertilizer_prediction_submission.csv')"
   ]
  },
  {
   "cell_type": "code",
   "execution_count": null,
   "id": "11f61f1d-2b43-4cc6-b39b-93ea93c7358f",
   "metadata": {},
   "outputs": [],
   "source": []
  }
 ],
 "metadata": {
  "kernelspec": {
   "display_name": "Python 3",
   "language": "python",
   "name": "python3"
  },
  "language_info": {
   "codemirror_mode": {
    "name": "ipython",
    "version": 3
   },
   "file_extension": ".py",
   "mimetype": "text/x-python",
   "name": "python",
   "nbconvert_exporter": "python",
   "pygments_lexer": "ipython3",
   "version": "3.8.8"
  }
 },
 "nbformat": 4,
 "nbformat_minor": 5
}
